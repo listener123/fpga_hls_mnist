{
 "cells": [
  {
   "cell_type": "code",
   "execution_count": 12,
   "metadata": {},
   "outputs": [],
   "source": [
    "import time\n",
    "from pynq import Overlay\n",
    "import numpy as np\n",
    "from pynq import Xlnk as xlnk\n",
    "import struct\n",
    "from scipy.misc import imread\n",
    "import cv2\n",
    "\n",
    "xlnk=Xlnk();\n",
    "#input image\n",
    "image=xlnk.cma_array(shape=(28*28*1),cacheable=0,dtype=np.float32)\n",
    "#weight\n",
    "weight_all=xlnk.cma_array(shape=(1*16*3*3+16*32*3*3+32*128*7*7+128*10*1*1),cacheable=0,dtype=np.float32)\n",
    "#bias\n",
    "bias_all=xlnk.cma_array(shape=(16+32+128+10),cacheable=0,dtype=np.float32)\n",
    "#out\n",
    "result=xlnk.cma_array(shape=(10),cacheable=0,dtype=np.float32)"
   ]
  },
  {
   "cell_type": "code",
   "execution_count": 13,
   "metadata": {},
   "outputs": [],
   "source": [
    "idx = 0\n",
    "\n",
    "w = np.fromfile(\"W_conv1.bin\", dtype=np.float32)\n",
    "np.copyto(weight_all[idx:idx+len(w)], w)\n",
    "idx +=len(w)\n",
    "\n",
    "w = np.fromfile(\"W_conv2.bin\", dtype=np.float32)\n",
    "np.copyto(weight_all[idx:idx+len(w)], w)\n",
    "idx +=len(w)\n",
    "\n",
    "w = np.fromfile(\"W_fc1.bin\", dtype=np.float32)\n",
    "np.copyto(weight_all[idx:idx+len(w)], w)\n",
    "idx +=len(w)\n",
    "\n",
    "w = np.fromfile(\"W_fc2.bin\", dtype=np.float32)\n",
    "np.copyto(weight_all[idx:idx+len(w)], w)\n",
    "idx +=len(w)\n",
    "\n",
    "idx = 0\n",
    "b = np.fromfile(\"b_conv1.bin\", dtype=np.float32)\n",
    "np.copyto(bias_all[idx:idx+len(b)], b)\n",
    "idx +=len(b)\n",
    "\n",
    "b = np.fromfile(\"b_conv2.bin\", dtype=np.float32)\n",
    "np.copyto(bias_all[idx:idx+len(b)], b)\n",
    "idx +=len(b)\n",
    "\n",
    "b = np.fromfile(\"b_fc1.bin\", dtype=np.float32)\n",
    "np.copyto(bias_all[idx:idx+len(b)], b)\n",
    "idx +=len(b)\n",
    "\n",
    "b = np.fromfile(\"b_fc2.bin\", dtype=np.float32)\n",
    "np.copyto(bias_all[idx:idx+len(b)], b)\n",
    "idx +=len(b)"
   ]
  },
  {
   "cell_type": "code",
   "execution_count": 14,
   "metadata": {},
   "outputs": [
    {
     "name": "stdout",
     "output_type": "stream",
     "text": [
      "Read image\n"
     ]
    }
   ],
   "source": [
    "image1=cv2.imread(\"4.jpg\",cv2.IMREAD_GRAYSCALE).astype(np.float32)\n",
    "print(\"Read image\")\n",
    "\n",
    "for i in range(28):\n",
    "    for j in range(28):\n",
    "        for k in range(1):\n",
    "            image[i*28*1+j*1+k]=(255-image1[i][j])/255"
   ]
  },
  {
   "cell_type": "code",
   "execution_count": 18,
   "metadata": {},
   "outputs": [
    {
     "name": "stderr",
     "output_type": "stream",
     "text": [
      "/usr/local/lib/python3.6/dist-packages/pynq/pl_server/device.py:594: UserWarning: Users will not get PARAMETERS / REGISTERS information through TCL files. HWH file is recommended.\n",
      "  warnings.warn(message, UserWarning)\n"
     ]
    },
    {
     "name": "stdout",
     "output_type": "stream",
     "text": [
      "Bitstream loaded\n"
     ]
    }
   ],
   "source": [
    "overlay = Overlay(\"./lenet.bit\")\n",
    "print(\"Bitstream loaded\")\n",
    "overlay?"
   ]
  },
  {
   "cell_type": "code",
   "execution_count": 19,
   "metadata": {},
   "outputs": [],
   "source": [
    "Lenet =overlay.lenet_0\n",
    "Lenet.write(0x10, image.physical_address)\n",
    "Lenet.write(0x18, weight_all.physical_address)\n",
    "Lenet.write(0x20, bias_all.physical_address)\n",
    "Lenet.write(0x28, result.physical_address)"
   ]
  },
  {
   "cell_type": "code",
   "execution_count": 20,
   "metadata": {},
   "outputs": [
    {
     "name": "stdout",
     "output_type": "stream",
     "text": [
      "[  0.           0.           0.           0.          12.53744698   0.           0.\n",
      "   0.           0.           3.6278832 ]\n",
      "The number you write is 4\n"
     ]
    }
   ],
   "source": [
    "Lenet.write(0x00, 1)\n",
    "isready = Lenet.read(0x00)\n",
    "while( isready == 1 ):\n",
    "    isready = Lenet.read(0x00)\n",
    "print(result)\n",
    "MAX = 0\n",
    "num = 0\n",
    "for i in range(0,10):\n",
    "    if(result[i]>MAX):\n",
    "        MAX=result[i]\n",
    "        num=i\n",
    "print(\"The number you write is \"+str(num))"
   ]
  },
  {
   "cell_type": "code",
   "execution_count": null,
   "metadata": {},
   "outputs": [],
   "source": []
  }
 ],
 "metadata": {
  "kernelspec": {
   "display_name": "Python 3",
   "language": "python",
   "name": "python3"
  },
  "language_info": {
   "codemirror_mode": {
    "name": "ipython",
    "version": 3
   },
   "file_extension": ".py",
   "mimetype": "text/x-python",
   "name": "python",
   "nbconvert_exporter": "python",
   "pygments_lexer": "ipython3",
   "version": "3.6.5"
  }
 },
 "nbformat": 4,
 "nbformat_minor": 1
}
